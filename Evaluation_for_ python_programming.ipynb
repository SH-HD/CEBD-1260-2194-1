{
 "cells": [
  {
   "cell_type": "code",
   "execution_count": 4,
   "metadata": {},
   "outputs": [
    {
     "name": "stdout",
     "output_type": "stream",
     "text": [
      "[1, 2, 3, 4, 5, 6, 7, 8, 9, 10, 11, 12, 13, 14, 15, 16, 17, 18, 19, 20]\n"
     ]
    }
   ],
   "source": [
    "#1.\tCreate a list of integers from range 1 to 20\n",
    "list_of_1_to_20 = list(range(1, 21))\n",
    "print(list_of_1_to_20)"
   ]
  },
  {
   "cell_type": "code",
   "execution_count": 40,
   "metadata": {},
   "outputs": [
    {
     "name": "stdout",
     "output_type": "stream",
     "text": [
      " Created array with dimension 4*5 without assigned values = \n",
      "[[ 0.00000000e+000  0.00000000e+000  0.00000000e+000 -3.26126935e-311\n",
      "   0.00000000e+000]\n",
      " [ 0.00000000e+000  0.00000000e+000  0.00000000e+000  0.00000000e+000\n",
      "   0.00000000e+000]\n",
      " [ 0.00000000e+000  0.00000000e+000  0.00000000e+000  0.00000000e+000\n",
      "   0.00000000e+000]\n",
      " [ 0.00000000e+000  0.00000000e+000  0.00000000e+000  0.00000000e+000\n",
      "   0.00000000e+000]]\n",
      " Created array with dimension 4*5 with zero values = \n",
      "[[ 0.00000000e+000  0.00000000e+000  0.00000000e+000 -3.26126935e-311\n",
      "   0.00000000e+000]\n",
      " [ 0.00000000e+000  0.00000000e+000  0.00000000e+000  0.00000000e+000\n",
      "   0.00000000e+000]\n",
      " [ 0.00000000e+000  0.00000000e+000  0.00000000e+000  0.00000000e+000\n",
      "   0.00000000e+000]\n",
      " [ 0.00000000e+000  0.00000000e+000  0.00000000e+000  0.00000000e+000\n",
      "   0.00000000e+000]]\n"
     ]
    }
   ],
   "source": [
    "#2. 2.\tCreate an array with dimension 4*5 (4 rows and 5 columns)\n",
    "import numpy as np\n",
    "a_4_5_nv = np.empty([4, 5])# create an array with dimension 4*5 without assignin values\n",
    "print (\" Created array with dimension 4*5 without assigned values = \")# print the name of the array\n",
    "print (a_4_5_nv)# print the  array\n",
    "\n",
    "\n",
    "a_4_5_zeros = np.empty([4, 5])# create an array with dimension 4*5 with zero values\n",
    "\n",
    "print (\" Created array with dimension 4*5 with zero values = \" )# print the name of the array\n",
    "print ( a_4_5_zeros)# print the  array"
   ]
  },
  {
   "cell_type": "code",
   "execution_count": 37,
   "metadata": {},
   "outputs": [
    {
     "name": "stdout",
     "output_type": "stream",
     "text": [
      "The mean of the array is  3.0\n",
      "The sum  of the array is  27.0\n"
     ]
    }
   ],
   "source": [
    "# 3.Calculate the sum and mean of the array in Q2\n",
    "import numpy as np\n",
    "def mean_sum(arr): # defining a functio that takes a array as an input\n",
    "             #and delivers the prints the mean and sum of the array\n",
    "             #and output them in a list of two elements[mean,sum]\n",
    "    m_s = [0,0]  \n",
    "    m_s[0] = np.mean(arr)# return sum using sum \n",
    "    m_s[1] = np.sum(arr)\n",
    "    \n",
    "    return(m_s) \n",
    "\n",
    "test_arr = 3 * np.ones((3,3))# making a square array of 3*3 while all elements are 3\n",
    "m_s = mean_sum(test_arr)# using the defined function to Calculate the sum and mean of the array \n",
    "print('The mean of the array is ', m_s[0])\n",
    "print('The sum  of the array is ', m_s[1])"
   ]
  },
  {
   "cell_type": "code",
   "execution_count": 42,
   "metadata": {},
   "outputs": [
    {
     "name": "stdout",
     "output_type": "stream",
     "text": [
      "When we compare if string ‘abc’ is equal to string ‘abf’, it should give  False\n"
     ]
    }
   ],
   "source": [
    "#4.\tCompare if string ‘abc’ is equal to string ‘abf’, should give False\n",
    "\n",
    "print('When we compare if string ‘abc’ is equal to string ‘abf’, it should give ', 'abc' == 'abf' )"
   ]
  },
  {
   "cell_type": "code",
   "execution_count": 48,
   "metadata": {},
   "outputs": [
    {
     "data": {
      "text/plain": [
       "344.55522053801474"
      ]
     },
     "execution_count": 48,
     "metadata": {},
     "output_type": "execute_result"
    }
   ],
   "source": [
    "#5.\tCreate an empty list x and append 3 numbers: 5,9,-1 on the list and \n",
    "#then combine another list y=[800,200] into one single list, \n",
    "#then calculate the standard deviation of the list\n",
    "import statistics as st# to calculate standard deviation\n",
    "\n",
    "x = [] #Create an empty list x\n",
    "x = x + [5,9,-1]#append 3 numbers: 5,9,-1 on the list\n",
    "y=[800,200]# creating list y\n",
    "z = x+y  #  combine another list y=[800,200] into one single list\n",
    "sd = st.stdev(z)#calculate the standard deviation of the list\n",
    "sd# show sd\n"
   ]
  },
  {
   "cell_type": "code",
   "execution_count": 82,
   "metadata": {},
   "outputs": [
    {
     "name": "stdout",
     "output_type": "stream",
     "text": [
      "The sum  of the array is  3\n"
     ]
    }
   ],
   "source": [
    "# 6.Write a python function with name get_sum, the input is the N integers, the output should be the sum of them\n",
    "import numpy as np\n",
    "def sum_int(arr): # defining a functio that takes an array as an input\n",
    "             #and delivers the prints the mean and sum of the array\n",
    "             #and output them in a list of two elements[mean,sum]\n",
    "    \n",
    "    \n",
    "    sum_in = np.sum(arr)# return sum using sum \n",
    "    \n",
    "    return(sum_in) \n",
    "\n",
    "test_list = list(range(1,3))# making a list\n",
    "s_out = sum_int(test_list)# using the defined function to Calculate the sum  of the array \n",
    "\n",
    "print('The sum  of the array is ',s_out)"
   ]
  },
  {
   "cell_type": "code",
   "execution_count": 70,
   "metadata": {},
   "outputs": [
    {
     "name": "stdout",
     "output_type": "stream",
     "text": [
      "in_array :  [-3.14159265, -2.57039399, -0.28559933, 0.28559933, 2.57039399, 3.14159265]\n",
      "\n",
      "out_array :  [-3.5897930298416118e-09, -0.5406408168673427, -0.2817325547837714, 0.2817325547837714, 0.5406408168673427, 3.5897930298416118e-09]\n"
     ]
    },
    {
     "data": {
      "image/png": "[encoded data removed]",
      "text/plain": [
       "<Figure size 432x288 with 1 Axes>"
      ]
     },
     "metadata": {
      "needs_background": "light"
     },
     "output_type": "display_data"
    }
   ],
   "source": [
    "#8.Using python plot lib to plot a sinusoidal function\n",
    "# given input x from 0-100, plot the output y and display your figure\n",
    "import math \n",
    "import matplotlib.pyplot as plt\n",
    "import numpy as np\n",
    "  \n",
    "x_array =  list(np.arange(1,100,0.1)) # generating list x with elements  from 0-100 with range of 0.1\n",
    "  \n",
    "y_array = [] # creating y_array as an empty list\n",
    "  \n",
    "for i in range(len(x_array)): # appending the sin of each element of x_array to form y_array\n",
    "    y_array.append(math.sin(x_array[i])) \n",
    "    \n",
    "  \n",
    "\n",
    "  # 2D ploting x = x_array, y = y_array\n",
    "\n",
    "fig = plt.plot(x_array, y_array, color = 'b') \n",
    "\n",
    "plt.title(\"sin()\")  \n",
    "plt.xlabel(\"X\")  \n",
    "plt.ylabel(\"Y\")  \n",
    "plt.show()"
   ]
  },
  {
   "cell_type": "code",
   "execution_count": 73,
   "metadata": {},
   "outputs": [
    {
     "name": "stdout",
     "output_type": "stream",
     "text": [
      "The frequency of each letter in the list x is :\n",
      " {'a': 5, 'b': 4, 'c': 1}\n"
     ]
    }
   ],
   "source": [
    "# 9. Given a list of string: x = [‘a’,’b’,’a’,’a’,’b’,’a’,’c’,’b’,’b’,’a’], \n",
    "#build a dictionary to count the frequency of each letter appears in the list. E.g. ‘a’ appears 5 times.\n",
    "\n",
    "x = ['a','b','a','a','b','a','c','b','b','a'] # generating x as a list \n",
    "\n",
    "x_element_freq = {} # creating an empty dictionary\n",
    "  \n",
    "for i in x: #  building a dictionary to count the frequency of each letter appears in the list x\n",
    "    if i in x_element_freq: \n",
    "        x_element_freq[i] += 1\n",
    "    else: \n",
    "        x_element_freq[i] = 1\n",
    "        \n",
    "# printing result   \n",
    "print (\"The frequency of each letter in the list x is :\\n \"\n",
    "                                        +  str(x_element_freq))"
   ]
  },
  {
   "cell_type": "code",
   "execution_count": null,
   "metadata": {},
   "outputs": [],
   "source": []
  }
 ],
 "metadata": {
  "kernelspec": {
   "display_name": "Python 3",
   "language": "python",
   "name": "python3"
  },
  "language_info": {
   "codemirror_mode": {
    "name": "ipython",
    "version": 3
   },
   "file_extension": ".py",
   "mimetype": "text/x-python",
   "name": "python",
   "nbconvert_exporter": "python",
   "pygments_lexer": "ipython3",
   "version": "3.7.3"
  }
 },
 "nbformat": 4,
 "nbformat_minor": 2
}
